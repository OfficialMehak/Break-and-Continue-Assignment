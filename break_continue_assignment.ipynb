{
 "cells": [
  {
   "cell_type": "markdown",
   "id": "c4ca9677",
   "metadata": {},
   "source": [
    "# 1. Write a program to print numbers from 1 to 10, but stop if the number is 5"
   ]
  },
  {
   "cell_type": "code",
   "execution_count": null,
   "id": "eaed071f",
   "metadata": {},
   "outputs": [],
   "source": [
    "for i in range(1, 11):\n",
    "    if i == 5:\n",
    "        break\n",
    "    print(i)\n",
    "# Explanation: The loop iterates from 1 to 10, but when it encounters the number 5, the break statement terminates the loop."
   ]
  },
  {
   "cell_type": "markdown",
   "id": "fc10b052",
   "metadata": {},
   "source": [
    "# 2. Write a program to iterate through a list and stop when encountering a specific element"
   ]
  },
  {
   "cell_type": "code",
   "execution_count": null,
   "id": "1096dfc7",
   "metadata": {},
   "outputs": [],
   "source": [
    "numbers = [1, 2, 3, 4, 5, 6, 7, 8, 9, 10]\n",
    "for num in numbers:\n",
    "    if num == 7:\n",
    "        break\n",
    "    print(num)\n",
    "# Explanation: The loop goes through the list numbers. When it finds the value 7, the break statement ends the loop."
   ]
  },
  {
   "cell_type": "markdown",
   "id": "bb7695c2",
   "metadata": {},
   "source": [
    "# 3. Write a program to skip printing even numbers from 1 to 10"
   ]
  },
  {
   "cell_type": "code",
   "execution_count": null,
   "id": "59b25a04",
   "metadata": {},
   "outputs": [],
   "source": [
    "for i in range(1, 11):\n",
    "    if i % 2 == 0:\n",
    "        continue\n",
    "    print(i)\n",
    "# Explanation: The loop iterates through numbers 1 to 10. The continue statement skips the current iteration for even numbers and proceeds with the next iteration."
   ]
  },
  {
   "cell_type": "markdown",
   "id": "4a001b23",
   "metadata": {},
   "source": [
    "# 4. Write a program to print numbers from 0 to 9 using range()"
   ]
  },
  {
   "cell_type": "code",
   "execution_count": null,
   "id": "24bef112",
   "metadata": {},
   "outputs": [],
   "source": [
    "for i in range(10):\n",
    "    print(i)\n",
    "# Explanation: The range(10) function generates numbers from 0 to 9. The loop iterates through these numbers and prints them."
   ]
  },
  {
   "cell_type": "markdown",
   "id": "0f973f76",
   "metadata": {},
   "source": [
    "# 5. Write a program to print multiplication tables from 1 to 5, but stop after the first table is printed for each number"
   ]
  },
  {
   "cell_type": "code",
   "execution_count": null,
   "id": "c1b3df1b",
   "metadata": {},
   "outputs": [],
   "source": [
    "for i in range(1, 6):\n",
    "    for j in range(1, 11):\n",
    "        print(f'{i} x {j} = {i * j}')\n",
    "        break\n",
    "# Explanation: The outer loop iterates through numbers 1 to 5. The inner loop starts printing the multiplication table for each number, but the break statement ensures only the first result is printed for each table."
   ]
  },
  {
   "cell_type": "markdown",
   "id": "9fcc8e60",
   "metadata": {},
   "source": [
    "# 6. Write a program to skip printing even numbers using a while loop"
   ]
  },
  {
   "cell_type": "code",
   "execution_count": null,
   "id": "1e112270",
   "metadata": {},
   "outputs": [],
   "source": [
    "num = 1\n",
    "while num <= 10:\n",
    "    if num % 2 == 0:\n",
    "        num += 1\n",
    "        continue\n",
    "    print(num)\n",
    "    num += 1\n",
    "# Explanation: The while loop increments the variable num from 1 to 10. When num is even, the continue statement skips the print operation and goes to the next iteration."
   ]
  }
 ],
 "metadata": {
  "kernelspec": {
   "display_name": "base",
   "language": "python",
   "name": "python3"
  },
  "language_info": {
   "name": "python",
   "version": "3.11.5"
  }
 },
 "nbformat": 4,
 "nbformat_minor": 5
}
